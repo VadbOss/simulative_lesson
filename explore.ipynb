{
 "cells": [
  {
   "cell_type": "code",
   "execution_count": 2,
   "id": "e9e558a0",
   "metadata": {},
   "outputs": [],
   "source": [
    "import pandas as pd"
   ]
  },
  {
   "cell_type": "code",
   "execution_count": 26,
   "id": "622f3f5b",
   "metadata": {},
   "outputs": [
    {
     "name": "stdout",
     "output_type": "stream",
     "text": [
      "2.3.0\n"
     ]
    }
   ],
   "source": [
    "print(pd.__version__)"
   ]
  },
  {
   "cell_type": "code",
   "execution_count": 3,
   "id": "5d09a4e0",
   "metadata": {},
   "outputs": [
    {
     "name": "stderr",
     "output_type": "stream",
     "text": [
      "<>:1: SyntaxWarning: invalid escape sequence '\\d'\n",
      "<>:1: SyntaxWarning: invalid escape sequence '\\d'\n",
      "C:\\Users\\Вадим\\AppData\\Local\\Temp\\ipykernel_8208\\2796387157.py:1: SyntaxWarning: invalid escape sequence '\\d'\n",
      "  df = pd.read_csv('data\\data.csv', encoding='1251')\n"
     ]
    }
   ],
   "source": [
    "df = pd.read_csv('data\\data.csv', encoding='1251')"
   ]
  },
  {
   "cell_type": "code",
   "execution_count": 4,
   "id": "36c51efa",
   "metadata": {},
   "outputs": [],
   "source": [
    "pd.set_option('display.max_columns', None)\n",
    "pd.set_option('display.float_format', '{:.2f}'.format)\n",
    "#pd.describe_option()"
   ]
  },
  {
   "cell_type": "code",
   "execution_count": 5,
   "id": "1d1540a8",
   "metadata": {},
   "outputs": [
    {
     "data": {
      "text/plain": [
       "(4462, 21)"
      ]
     },
     "execution_count": 5,
     "metadata": {},
     "output_type": "execute_result"
    }
   ],
   "source": [
    "df.shape"
   ]
  },
  {
   "cell_type": "code",
   "execution_count": 6,
   "id": "5b546b6a",
   "metadata": {},
   "outputs": [
    {
     "data": {
      "text/html": [
       "<div>\n",
       "<style scoped>\n",
       "    .dataframe tbody tr th:only-of-type {\n",
       "        vertical-align: middle;\n",
       "    }\n",
       "\n",
       "    .dataframe tbody tr th {\n",
       "        vertical-align: top;\n",
       "    }\n",
       "\n",
       "    .dataframe thead th {\n",
       "        text-align: right;\n",
       "    }\n",
       "</style>\n",
       "<table border=\"1\" class=\"dataframe\">\n",
       "  <thead>\n",
       "    <tr style=\"text-align: right;\">\n",
       "      <th></th>\n",
       "      <th>DR_Dat</th>\n",
       "      <th>DR_Tim</th>\n",
       "      <th>DR_NChk</th>\n",
       "      <th>DR_NDoc</th>\n",
       "      <th>DR_Apt</th>\n",
       "      <th>DR_Kkm</th>\n",
       "      <th>DR_TDoc</th>\n",
       "      <th>DR_TPay</th>\n",
       "      <th>DR_CDrugs</th>\n",
       "      <th>DR_NDrugs</th>\n",
       "      <th>DR_Suppl</th>\n",
       "      <th>DR_Prod</th>\n",
       "      <th>DR_Kol</th>\n",
       "      <th>DR_CZak</th>\n",
       "      <th>DR_CRoz</th>\n",
       "      <th>DR_SDisc</th>\n",
       "      <th>DR_CDisc</th>\n",
       "      <th>DR_BCDisc</th>\n",
       "      <th>DR_TabEmpl</th>\n",
       "      <th>DR_VZak</th>\n",
       "      <th>DR_Pos</th>\n",
       "    </tr>\n",
       "  </thead>\n",
       "  <tbody>\n",
       "    <tr>\n",
       "      <th>4459</th>\n",
       "      <td>2022-08-12</td>\n",
       "      <td>21:43:48</td>\n",
       "      <td>5692</td>\n",
       "      <td>18002542</td>\n",
       "      <td>18</td>\n",
       "      <td>9907</td>\n",
       "      <td>Розничная реализация</td>\n",
       "      <td>18</td>\n",
       "      <td>260990</td>\n",
       "      <td>СИЛДЕНАФИЛ-СЗ 50МГ. №10 ТАБ. П/П/О /СЕВЕРНАЯ З...</td>\n",
       "      <td>Авеста</td>\n",
       "      <td>Северная Звезда</td>\n",
       "      <td>1.00</td>\n",
       "      <td>297.74</td>\n",
       "      <td>396.00</td>\n",
       "      <td>0.00</td>\n",
       "      <td>NaN</td>\n",
       "      <td>NaN</td>\n",
       "      <td>48</td>\n",
       "      <td>1</td>\n",
       "      <td>1.00</td>\n",
       "    </tr>\n",
       "    <tr>\n",
       "      <th>4460</th>\n",
       "      <td>2022-08-12</td>\n",
       "      <td>21:44:46</td>\n",
       "      <td>5693</td>\n",
       "      <td>18002542</td>\n",
       "      <td>18</td>\n",
       "      <td>9907</td>\n",
       "      <td>Розничная реализация</td>\n",
       "      <td>18</td>\n",
       "      <td>41512</td>\n",
       "      <td>ТОБРАЗОН 5МЛ. ГЛ.КАПЛИ ФЛ.</td>\n",
       "      <td>Катрен г.Химки</td>\n",
       "      <td>Кадила Фармасьютикалз Лтд  ( CADILA )</td>\n",
       "      <td>1.00</td>\n",
       "      <td>322.06</td>\n",
       "      <td>419.00</td>\n",
       "      <td>0.00</td>\n",
       "      <td>NaN</td>\n",
       "      <td>NaN</td>\n",
       "      <td>48</td>\n",
       "      <td>1</td>\n",
       "      <td>1.00</td>\n",
       "    </tr>\n",
       "    <tr>\n",
       "      <th>4461</th>\n",
       "      <td>2022-08-12</td>\n",
       "      <td>21:46:08</td>\n",
       "      <td>5694</td>\n",
       "      <td>18002542</td>\n",
       "      <td>18</td>\n",
       "      <td>9907</td>\n",
       "      <td>Розничная реализация</td>\n",
       "      <td>15</td>\n",
       "      <td>25673</td>\n",
       "      <td>БЕЛЬВЕДЕР ЛАК П/ОБГРЫЗАНИЯ НОГТЕЙ 8МЛ. [BELWEDER]</td>\n",
       "      <td>Катрен г.Химки</td>\n",
       "      <td>BELWEDER NORD SIA</td>\n",
       "      <td>1.00</td>\n",
       "      <td>238.62</td>\n",
       "      <td>346.00</td>\n",
       "      <td>34.00</td>\n",
       "      <td>9.00</td>\n",
       "      <td>200010027618.00</td>\n",
       "      <td>48</td>\n",
       "      <td>1</td>\n",
       "      <td>1.00</td>\n",
       "    </tr>\n",
       "  </tbody>\n",
       "</table>\n",
       "</div>"
      ],
      "text/plain": [
       "          DR_Dat    DR_Tim  DR_NChk   DR_NDoc  DR_Apt  DR_Kkm  \\\n",
       "4459  2022-08-12  21:43:48     5692  18002542      18    9907   \n",
       "4460  2022-08-12  21:44:46     5693  18002542      18    9907   \n",
       "4461  2022-08-12  21:46:08     5694  18002542      18    9907   \n",
       "\n",
       "                   DR_TDoc  DR_TPay  DR_CDrugs  \\\n",
       "4459  Розничная реализация       18     260990   \n",
       "4460  Розничная реализация       18      41512   \n",
       "4461  Розничная реализация       15      25673   \n",
       "\n",
       "                                              DR_NDrugs        DR_Suppl  \\\n",
       "4459  СИЛДЕНАФИЛ-СЗ 50МГ. №10 ТАБ. П/П/О /СЕВЕРНАЯ З...          Авеста   \n",
       "4460                         ТОБРАЗОН 5МЛ. ГЛ.КАПЛИ ФЛ.  Катрен г.Химки   \n",
       "4461  БЕЛЬВЕДЕР ЛАК П/ОБГРЫЗАНИЯ НОГТЕЙ 8МЛ. [BELWEDER]  Катрен г.Химки   \n",
       "\n",
       "                                    DR_Prod  DR_Kol  DR_CZak  DR_CRoz  \\\n",
       "4459                        Северная Звезда    1.00   297.74   396.00   \n",
       "4460  Кадила Фармасьютикалз Лтд  ( CADILA )    1.00   322.06   419.00   \n",
       "4461                      BELWEDER NORD SIA    1.00   238.62   346.00   \n",
       "\n",
       "      DR_SDisc  DR_CDisc       DR_BCDisc  DR_TabEmpl  DR_VZak  DR_Pos  \n",
       "4459      0.00       NaN             NaN          48        1    1.00  \n",
       "4460      0.00       NaN             NaN          48        1    1.00  \n",
       "4461     34.00      9.00 200010027618.00          48        1    1.00  "
      ]
     },
     "execution_count": 6,
     "metadata": {},
     "output_type": "execute_result"
    }
   ],
   "source": [
    "df.tail(3)"
   ]
  },
  {
   "cell_type": "code",
   "execution_count": 7,
   "id": "9f064502",
   "metadata": {},
   "outputs": [
    {
     "data": {
      "text/plain": [
       "DR_Dat         object\n",
       "DR_Tim         object\n",
       "DR_NChk         int64\n",
       "DR_NDoc         int64\n",
       "DR_Apt          int64\n",
       "DR_Kkm          int64\n",
       "DR_TDoc        object\n",
       "DR_TPay         int64\n",
       "DR_CDrugs       int64\n",
       "DR_NDrugs      object\n",
       "DR_Suppl       object\n",
       "DR_Prod        object\n",
       "DR_Kol        float64\n",
       "DR_CZak       float64\n",
       "DR_CRoz       float64\n",
       "DR_SDisc      float64\n",
       "DR_CDisc      float64\n",
       "DR_BCDisc     float64\n",
       "DR_TabEmpl      int64\n",
       "DR_VZak         int64\n",
       "DR_Pos        float64\n",
       "dtype: object"
      ]
     },
     "execution_count": 7,
     "metadata": {},
     "output_type": "execute_result"
    }
   ],
   "source": [
    "df.dtypes"
   ]
  },
  {
   "cell_type": "code",
   "execution_count": 8,
   "id": "8e5b3ce3",
   "metadata": {},
   "outputs": [
    {
     "data": {
      "text/plain": [
       "Index(['DR_Dat', 'DR_Tim', 'DR_NChk', 'DR_NDoc', 'DR_Apt', 'DR_Kkm', 'DR_TDoc',\n",
       "       'DR_TPay', 'DR_CDrugs', 'DR_NDrugs', 'DR_Suppl', 'DR_Prod', 'DR_Kol',\n",
       "       'DR_CZak', 'DR_CRoz', 'DR_SDisc', 'DR_CDisc', 'DR_BCDisc', 'DR_TabEmpl',\n",
       "       'DR_VZak', 'DR_Pos'],\n",
       "      dtype='object')"
      ]
     },
     "execution_count": 8,
     "metadata": {},
     "output_type": "execute_result"
    }
   ],
   "source": [
    "df.columns"
   ]
  },
  {
   "cell_type": "code",
   "execution_count": 9,
   "id": "d2340a5b",
   "metadata": {},
   "outputs": [
    {
     "data": {
      "text/plain": [
       "DR_Dat           0\n",
       "DR_Tim           0\n",
       "DR_NChk          0\n",
       "DR_NDoc          0\n",
       "DR_Apt           0\n",
       "DR_Kkm           0\n",
       "DR_TDoc          0\n",
       "DR_TPay          0\n",
       "DR_CDrugs        0\n",
       "DR_NDrugs        0\n",
       "DR_Suppl         0\n",
       "DR_Prod          0\n",
       "DR_Kol           0\n",
       "DR_CZak          0\n",
       "DR_CRoz          0\n",
       "DR_SDisc         0\n",
       "DR_CDisc      2697\n",
       "DR_BCDisc     2697\n",
       "DR_TabEmpl       0\n",
       "DR_VZak          0\n",
       "DR_Pos           0\n",
       "dtype: int64"
      ]
     },
     "execution_count": 9,
     "metadata": {},
     "output_type": "execute_result"
    }
   ],
   "source": [
    "df.isna().sum()"
   ]
  },
  {
   "cell_type": "code",
   "execution_count": 10,
   "id": "dd434213",
   "metadata": {},
   "outputs": [],
   "source": [
    "df = df.fillna(0)"
   ]
  },
  {
   "cell_type": "code",
   "execution_count": 11,
   "id": "6d4310f2",
   "metadata": {},
   "outputs": [
    {
     "data": {
      "text/plain": [
       "DR_Dat        0\n",
       "DR_Tim        0\n",
       "DR_NChk       0\n",
       "DR_NDoc       0\n",
       "DR_Apt        0\n",
       "DR_Kkm        0\n",
       "DR_TDoc       0\n",
       "DR_TPay       0\n",
       "DR_CDrugs     0\n",
       "DR_NDrugs     0\n",
       "DR_Suppl      0\n",
       "DR_Prod       0\n",
       "DR_Kol        0\n",
       "DR_CZak       0\n",
       "DR_CRoz       0\n",
       "DR_SDisc      0\n",
       "DR_CDisc      0\n",
       "DR_BCDisc     0\n",
       "DR_TabEmpl    0\n",
       "DR_VZak       0\n",
       "DR_Pos        0\n",
       "dtype: int64"
      ]
     },
     "execution_count": 11,
     "metadata": {},
     "output_type": "execute_result"
    }
   ],
   "source": [
    "df.isna().sum()"
   ]
  },
  {
   "cell_type": "code",
   "execution_count": 12,
   "id": "3e282e15",
   "metadata": {},
   "outputs": [],
   "source": [
    "my_cols = ['DR_Dat', 'DR_Tim', 'DR_NChk', 'DR_NDoc', 'DR_Apt', 'DR_CDrugs', 'DR_Kol', 'DR_CZak', 'DR_CRoz', 'DR_SDisc', 'DR_CDisc', 'DR_BCDisc', 'DR_TabEmpl', 'DR_TPay', 'DR_NDrugs', 'DR_Suppl', 'DR_VZak', 'DR_Pos']"
   ]
  },
  {
   "cell_type": "code",
   "execution_count": 13,
   "id": "e909a9a4",
   "metadata": {},
   "outputs": [],
   "source": [
    "df = df[my_cols]"
   ]
  },
  {
   "cell_type": "code",
   "execution_count": 14,
   "id": "7a08cabb",
   "metadata": {},
   "outputs": [
    {
     "data": {
      "text/html": [
       "<div>\n",
       "<style scoped>\n",
       "    .dataframe tbody tr th:only-of-type {\n",
       "        vertical-align: middle;\n",
       "    }\n",
       "\n",
       "    .dataframe tbody tr th {\n",
       "        vertical-align: top;\n",
       "    }\n",
       "\n",
       "    .dataframe thead th {\n",
       "        text-align: right;\n",
       "    }\n",
       "</style>\n",
       "<table border=\"1\" class=\"dataframe\">\n",
       "  <thead>\n",
       "    <tr style=\"text-align: right;\">\n",
       "      <th></th>\n",
       "      <th>DR_Dat</th>\n",
       "      <th>DR_Tim</th>\n",
       "      <th>DR_NChk</th>\n",
       "      <th>DR_NDoc</th>\n",
       "      <th>DR_Apt</th>\n",
       "      <th>DR_CDrugs</th>\n",
       "      <th>DR_Kol</th>\n",
       "      <th>DR_CZak</th>\n",
       "      <th>DR_CRoz</th>\n",
       "      <th>DR_SDisc</th>\n",
       "      <th>DR_CDisc</th>\n",
       "      <th>DR_BCDisc</th>\n",
       "      <th>DR_TabEmpl</th>\n",
       "      <th>DR_TPay</th>\n",
       "      <th>DR_NDrugs</th>\n",
       "      <th>DR_Suppl</th>\n",
       "      <th>DR_VZak</th>\n",
       "      <th>DR_Pos</th>\n",
       "    </tr>\n",
       "  </thead>\n",
       "  <tbody>\n",
       "    <tr>\n",
       "      <th>0</th>\n",
       "      <td>2022-08-11</td>\n",
       "      <td>10:15:35</td>\n",
       "      <td>2173</td>\n",
       "      <td>2004598</td>\n",
       "      <td>2</td>\n",
       "      <td>45399</td>\n",
       "      <td>1.00</td>\n",
       "      <td>41.08</td>\n",
       "      <td>51.00</td>\n",
       "      <td>12.00</td>\n",
       "      <td>925.00</td>\n",
       "      <td>200000000492.00</td>\n",
       "      <td>205</td>\n",
       "      <td>18</td>\n",
       "      <td>ЦИПРОЛЕТ 3МГ/МЛ. 5МЛ. №1 ГЛ.КАПЛИ ФЛ./КАП. /Д-...</td>\n",
       "      <td>Катрен г.Химки</td>\n",
       "      <td>1</td>\n",
       "      <td>1.00</td>\n",
       "    </tr>\n",
       "    <tr>\n",
       "      <th>1</th>\n",
       "      <td>2022-08-11</td>\n",
       "      <td>10:27:46</td>\n",
       "      <td>2174</td>\n",
       "      <td>2004598</td>\n",
       "      <td>2</td>\n",
       "      <td>261519</td>\n",
       "      <td>1.00</td>\n",
       "      <td>18.61</td>\n",
       "      <td>31.00</td>\n",
       "      <td>3.00</td>\n",
       "      <td>9.00</td>\n",
       "      <td>200010010204.00</td>\n",
       "      <td>205</td>\n",
       "      <td>15</td>\n",
       "      <td>ПЕРЕКИСЬ ВОДОРОДА 3% 100МЛ. №40 Р-Р ФЛ.</td>\n",
       "      <td>Катрен г.Химки</td>\n",
       "      <td>1</td>\n",
       "      <td>1.00</td>\n",
       "    </tr>\n",
       "    <tr>\n",
       "      <th>2</th>\n",
       "      <td>2022-08-11</td>\n",
       "      <td>10:27:46</td>\n",
       "      <td>2174</td>\n",
       "      <td>2004598</td>\n",
       "      <td>2</td>\n",
       "      <td>460864</td>\n",
       "      <td>1.00</td>\n",
       "      <td>132.69</td>\n",
       "      <td>209.00</td>\n",
       "      <td>20.00</td>\n",
       "      <td>9.00</td>\n",
       "      <td>200010010204.00</td>\n",
       "      <td>205</td>\n",
       "      <td>15</td>\n",
       "      <td>СОФЬЯ ГЕЛЬ Д/НОГ ВЕНОТОНИЗ. ТРОКСЕРУТИН ФОРТЕ ...</td>\n",
       "      <td>Катрен г.Химки</td>\n",
       "      <td>1</td>\n",
       "      <td>2.00</td>\n",
       "    </tr>\n",
       "  </tbody>\n",
       "</table>\n",
       "</div>"
      ],
      "text/plain": [
       "       DR_Dat    DR_Tim  DR_NChk  DR_NDoc  DR_Apt  DR_CDrugs  DR_Kol  DR_CZak  \\\n",
       "0  2022-08-11  10:15:35     2173  2004598       2      45399    1.00    41.08   \n",
       "1  2022-08-11  10:27:46     2174  2004598       2     261519    1.00    18.61   \n",
       "2  2022-08-11  10:27:46     2174  2004598       2     460864    1.00   132.69   \n",
       "\n",
       "   DR_CRoz  DR_SDisc  DR_CDisc       DR_BCDisc  DR_TabEmpl  DR_TPay  \\\n",
       "0    51.00     12.00    925.00 200000000492.00         205       18   \n",
       "1    31.00      3.00      9.00 200010010204.00         205       15   \n",
       "2   209.00     20.00      9.00 200010010204.00         205       15   \n",
       "\n",
       "                                           DR_NDrugs        DR_Suppl  DR_VZak  \\\n",
       "0  ЦИПРОЛЕТ 3МГ/МЛ. 5МЛ. №1 ГЛ.КАПЛИ ФЛ./КАП. /Д-...  Катрен г.Химки        1   \n",
       "1            ПЕРЕКИСЬ ВОДОРОДА 3% 100МЛ. №40 Р-Р ФЛ.  Катрен г.Химки        1   \n",
       "2  СОФЬЯ ГЕЛЬ Д/НОГ ВЕНОТОНИЗ. ТРОКСЕРУТИН ФОРТЕ ...  Катрен г.Химки        1   \n",
       "\n",
       "   DR_Pos  \n",
       "0    1.00  \n",
       "1    1.00  \n",
       "2    2.00  "
      ]
     },
     "execution_count": 14,
     "metadata": {},
     "output_type": "execute_result"
    }
   ],
   "source": [
    "df.head(3)"
   ]
  },
  {
   "cell_type": "code",
   "execution_count": 15,
   "id": "71495a14",
   "metadata": {},
   "outputs": [
    {
     "data": {
      "text/plain": [
       "(4462, 18)"
      ]
     },
     "execution_count": 15,
     "metadata": {},
     "output_type": "execute_result"
    }
   ],
   "source": [
    "df.shape"
   ]
  },
  {
   "cell_type": "code",
   "execution_count": 16,
   "id": "9e4439dd",
   "metadata": {},
   "outputs": [],
   "source": [
    "df.columns = ['dt', 'time_', 'nchk', 'ndoc', 'apt', 'drug_id', 'kol', 'zak', 'roz', 'disc', 'disc_id', 'barcode', 'empl', 'tpay', 'ndrugs', 'suppl', 'vzak', 'pos']"
   ]
  },
  {
   "cell_type": "code",
   "execution_count": 17,
   "id": "70d9c2a8",
   "metadata": {},
   "outputs": [
    {
     "data": {
      "text/html": [
       "<div>\n",
       "<style scoped>\n",
       "    .dataframe tbody tr th:only-of-type {\n",
       "        vertical-align: middle;\n",
       "    }\n",
       "\n",
       "    .dataframe tbody tr th {\n",
       "        vertical-align: top;\n",
       "    }\n",
       "\n",
       "    .dataframe thead th {\n",
       "        text-align: right;\n",
       "    }\n",
       "</style>\n",
       "<table border=\"1\" class=\"dataframe\">\n",
       "  <thead>\n",
       "    <tr style=\"text-align: right;\">\n",
       "      <th></th>\n",
       "      <th>dt</th>\n",
       "      <th>time_</th>\n",
       "      <th>nchk</th>\n",
       "      <th>ndoc</th>\n",
       "      <th>apt</th>\n",
       "      <th>drug_id</th>\n",
       "      <th>kol</th>\n",
       "      <th>zak</th>\n",
       "      <th>roz</th>\n",
       "      <th>disc</th>\n",
       "      <th>disc_id</th>\n",
       "      <th>barcode</th>\n",
       "      <th>empl</th>\n",
       "      <th>tpay</th>\n",
       "      <th>ndrugs</th>\n",
       "      <th>suppl</th>\n",
       "      <th>vzak</th>\n",
       "      <th>pos</th>\n",
       "    </tr>\n",
       "  </thead>\n",
       "  <tbody>\n",
       "    <tr>\n",
       "      <th>0</th>\n",
       "      <td>2022-08-11</td>\n",
       "      <td>10:15:35</td>\n",
       "      <td>2173</td>\n",
       "      <td>2004598</td>\n",
       "      <td>2</td>\n",
       "      <td>45399</td>\n",
       "      <td>1.00</td>\n",
       "      <td>41.08</td>\n",
       "      <td>51.00</td>\n",
       "      <td>12.00</td>\n",
       "      <td>925.00</td>\n",
       "      <td>200000000492.00</td>\n",
       "      <td>205</td>\n",
       "      <td>18</td>\n",
       "      <td>ЦИПРОЛЕТ 3МГ/МЛ. 5МЛ. №1 ГЛ.КАПЛИ ФЛ./КАП. /Д-...</td>\n",
       "      <td>Катрен г.Химки</td>\n",
       "      <td>1</td>\n",
       "      <td>1.00</td>\n",
       "    </tr>\n",
       "    <tr>\n",
       "      <th>1</th>\n",
       "      <td>2022-08-11</td>\n",
       "      <td>10:27:46</td>\n",
       "      <td>2174</td>\n",
       "      <td>2004598</td>\n",
       "      <td>2</td>\n",
       "      <td>261519</td>\n",
       "      <td>1.00</td>\n",
       "      <td>18.61</td>\n",
       "      <td>31.00</td>\n",
       "      <td>3.00</td>\n",
       "      <td>9.00</td>\n",
       "      <td>200010010204.00</td>\n",
       "      <td>205</td>\n",
       "      <td>15</td>\n",
       "      <td>ПЕРЕКИСЬ ВОДОРОДА 3% 100МЛ. №40 Р-Р ФЛ.</td>\n",
       "      <td>Катрен г.Химки</td>\n",
       "      <td>1</td>\n",
       "      <td>1.00</td>\n",
       "    </tr>\n",
       "    <tr>\n",
       "      <th>2</th>\n",
       "      <td>2022-08-11</td>\n",
       "      <td>10:27:46</td>\n",
       "      <td>2174</td>\n",
       "      <td>2004598</td>\n",
       "      <td>2</td>\n",
       "      <td>460864</td>\n",
       "      <td>1.00</td>\n",
       "      <td>132.69</td>\n",
       "      <td>209.00</td>\n",
       "      <td>20.00</td>\n",
       "      <td>9.00</td>\n",
       "      <td>200010010204.00</td>\n",
       "      <td>205</td>\n",
       "      <td>15</td>\n",
       "      <td>СОФЬЯ ГЕЛЬ Д/НОГ ВЕНОТОНИЗ. ТРОКСЕРУТИН ФОРТЕ ...</td>\n",
       "      <td>Катрен г.Химки</td>\n",
       "      <td>1</td>\n",
       "      <td>2.00</td>\n",
       "    </tr>\n",
       "  </tbody>\n",
       "</table>\n",
       "</div>"
      ],
      "text/plain": [
       "           dt     time_  nchk     ndoc  apt  drug_id  kol    zak    roz  disc  \\\n",
       "0  2022-08-11  10:15:35  2173  2004598    2    45399 1.00  41.08  51.00 12.00   \n",
       "1  2022-08-11  10:27:46  2174  2004598    2   261519 1.00  18.61  31.00  3.00   \n",
       "2  2022-08-11  10:27:46  2174  2004598    2   460864 1.00 132.69 209.00 20.00   \n",
       "\n",
       "   disc_id         barcode  empl  tpay  \\\n",
       "0   925.00 200000000492.00   205    18   \n",
       "1     9.00 200010010204.00   205    15   \n",
       "2     9.00 200010010204.00   205    15   \n",
       "\n",
       "                                              ndrugs           suppl  vzak  \\\n",
       "0  ЦИПРОЛЕТ 3МГ/МЛ. 5МЛ. №1 ГЛ.КАПЛИ ФЛ./КАП. /Д-...  Катрен г.Химки     1   \n",
       "1            ПЕРЕКИСЬ ВОДОРОДА 3% 100МЛ. №40 Р-Р ФЛ.  Катрен г.Химки     1   \n",
       "2  СОФЬЯ ГЕЛЬ Д/НОГ ВЕНОТОНИЗ. ТРОКСЕРУТИН ФОРТЕ ...  Катрен г.Химки     1   \n",
       "\n",
       "   pos  \n",
       "0 1.00  \n",
       "1 1.00  \n",
       "2 2.00  "
      ]
     },
     "execution_count": 17,
     "metadata": {},
     "output_type": "execute_result"
    }
   ],
   "source": [
    "df.head(3)"
   ]
  },
  {
   "cell_type": "code",
   "execution_count": 18,
   "id": "cf772642",
   "metadata": {},
   "outputs": [
    {
     "name": "stdout",
     "output_type": "stream",
     "text": [
      "<class 'pandas.core.frame.DataFrame'>\n",
      "RangeIndex: 4462 entries, 0 to 4461\n",
      "Data columns (total 18 columns):\n",
      " #   Column   Non-Null Count  Dtype  \n",
      "---  ------   --------------  -----  \n",
      " 0   dt       4462 non-null   object \n",
      " 1   time_    4462 non-null   object \n",
      " 2   nchk     4462 non-null   int64  \n",
      " 3   ndoc     4462 non-null   int64  \n",
      " 4   apt      4462 non-null   int64  \n",
      " 5   drug_id  4462 non-null   int64  \n",
      " 6   kol      4462 non-null   float64\n",
      " 7   zak      4462 non-null   float64\n",
      " 8   roz      4462 non-null   float64\n",
      " 9   disc     4462 non-null   float64\n",
      " 10  disc_id  4462 non-null   float64\n",
      " 11  barcode  4462 non-null   float64\n",
      " 12  empl     4462 non-null   int64  \n",
      " 13  tpay     4462 non-null   int64  \n",
      " 14  ndrugs   4462 non-null   object \n",
      " 15  suppl    4462 non-null   object \n",
      " 16  vzak     4462 non-null   int64  \n",
      " 17  pos      4462 non-null   float64\n",
      "dtypes: float64(7), int64(7), object(4)\n",
      "memory usage: 627.6+ KB\n"
     ]
    }
   ],
   "source": [
    "df.info()"
   ]
  },
  {
   "cell_type": "code",
   "execution_count": 19,
   "id": "3ed3408c",
   "metadata": {},
   "outputs": [
    {
     "data": {
      "text/plain": [
       "dtype('float64')"
      ]
     },
     "execution_count": 19,
     "metadata": {},
     "output_type": "execute_result"
    }
   ],
   "source": [
    "df['barcode'].dtype"
   ]
  },
  {
   "cell_type": "code",
   "execution_count": 20,
   "id": "914e998e",
   "metadata": {},
   "outputs": [],
   "source": [
    "df['barcode'] = df['barcode'].astype(str).replace(r'\\.0+$', '', regex=True)\n",
    "df['disc_id'] = df['disc_id'].astype(str).replace(r'\\.0+$', '', regex=True)"
   ]
  },
  {
   "cell_type": "code",
   "execution_count": 21,
   "id": "bb206ff8",
   "metadata": {},
   "outputs": [
    {
     "data": {
      "text/plain": [
       "0       2022-08-11\n",
       "1       2022-08-11\n",
       "2       2022-08-11\n",
       "3       2022-08-11\n",
       "4       2022-08-11\n",
       "           ...    \n",
       "4457    2022-08-12\n",
       "4458    2022-08-12\n",
       "4459    2022-08-12\n",
       "4460    2022-08-12\n",
       "4461    2022-08-12\n",
       "Name: dt, Length: 4462, dtype: object"
      ]
     },
     "execution_count": 21,
     "metadata": {},
     "output_type": "execute_result"
    }
   ],
   "source": [
    "df['dt']"
   ]
  },
  {
   "cell_type": "code",
   "execution_count": 22,
   "id": "e33cbc1f",
   "metadata": {},
   "outputs": [
    {
     "data": {
      "text/html": [
       "<div>\n",
       "<style scoped>\n",
       "    .dataframe tbody tr th:only-of-type {\n",
       "        vertical-align: middle;\n",
       "    }\n",
       "\n",
       "    .dataframe tbody tr th {\n",
       "        vertical-align: top;\n",
       "    }\n",
       "\n",
       "    .dataframe thead th {\n",
       "        text-align: right;\n",
       "    }\n",
       "</style>\n",
       "<table border=\"1\" class=\"dataframe\">\n",
       "  <thead>\n",
       "    <tr style=\"text-align: right;\">\n",
       "      <th></th>\n",
       "      <th>dt</th>\n",
       "      <th>time_</th>\n",
       "      <th>nchk</th>\n",
       "      <th>ndoc</th>\n",
       "      <th>apt</th>\n",
       "      <th>drug_id</th>\n",
       "      <th>kol</th>\n",
       "      <th>zak</th>\n",
       "      <th>roz</th>\n",
       "      <th>disc</th>\n",
       "      <th>disc_id</th>\n",
       "      <th>barcode</th>\n",
       "      <th>empl</th>\n",
       "      <th>tpay</th>\n",
       "      <th>ndrugs</th>\n",
       "      <th>suppl</th>\n",
       "      <th>vzak</th>\n",
       "      <th>pos</th>\n",
       "    </tr>\n",
       "  </thead>\n",
       "  <tbody>\n",
       "    <tr>\n",
       "      <th>0</th>\n",
       "      <td>11.08.2022</td>\n",
       "      <td>10:15:35</td>\n",
       "      <td>2173</td>\n",
       "      <td>2004598</td>\n",
       "      <td>2</td>\n",
       "      <td>45399</td>\n",
       "      <td>1.00</td>\n",
       "      <td>41.08</td>\n",
       "      <td>51.00</td>\n",
       "      <td>12.00</td>\n",
       "      <td>925</td>\n",
       "      <td>200000000492</td>\n",
       "      <td>205</td>\n",
       "      <td>18</td>\n",
       "      <td>ЦИПРОЛЕТ 3МГ/МЛ. 5МЛ. №1 ГЛ.КАПЛИ ФЛ./КАП. /Д-...</td>\n",
       "      <td>Катрен г.Химки</td>\n",
       "      <td>1</td>\n",
       "      <td>1.00</td>\n",
       "    </tr>\n",
       "    <tr>\n",
       "      <th>1</th>\n",
       "      <td>11.08.2022</td>\n",
       "      <td>10:27:46</td>\n",
       "      <td>2174</td>\n",
       "      <td>2004598</td>\n",
       "      <td>2</td>\n",
       "      <td>261519</td>\n",
       "      <td>1.00</td>\n",
       "      <td>18.61</td>\n",
       "      <td>31.00</td>\n",
       "      <td>3.00</td>\n",
       "      <td>9</td>\n",
       "      <td>200010010204</td>\n",
       "      <td>205</td>\n",
       "      <td>15</td>\n",
       "      <td>ПЕРЕКИСЬ ВОДОРОДА 3% 100МЛ. №40 Р-Р ФЛ.</td>\n",
       "      <td>Катрен г.Химки</td>\n",
       "      <td>1</td>\n",
       "      <td>1.00</td>\n",
       "    </tr>\n",
       "    <tr>\n",
       "      <th>2</th>\n",
       "      <td>11.08.2022</td>\n",
       "      <td>10:27:46</td>\n",
       "      <td>2174</td>\n",
       "      <td>2004598</td>\n",
       "      <td>2</td>\n",
       "      <td>460864</td>\n",
       "      <td>1.00</td>\n",
       "      <td>132.69</td>\n",
       "      <td>209.00</td>\n",
       "      <td>20.00</td>\n",
       "      <td>9</td>\n",
       "      <td>200010010204</td>\n",
       "      <td>205</td>\n",
       "      <td>15</td>\n",
       "      <td>СОФЬЯ ГЕЛЬ Д/НОГ ВЕНОТОНИЗ. ТРОКСЕРУТИН ФОРТЕ ...</td>\n",
       "      <td>Катрен г.Химки</td>\n",
       "      <td>1</td>\n",
       "      <td>2.00</td>\n",
       "    </tr>\n",
       "  </tbody>\n",
       "</table>\n",
       "</div>"
      ],
      "text/plain": [
       "           dt     time_  nchk     ndoc  apt  drug_id  kol    zak    roz  disc  \\\n",
       "0  11.08.2022  10:15:35  2173  2004598    2    45399 1.00  41.08  51.00 12.00   \n",
       "1  11.08.2022  10:27:46  2174  2004598    2   261519 1.00  18.61  31.00  3.00   \n",
       "2  11.08.2022  10:27:46  2174  2004598    2   460864 1.00 132.69 209.00 20.00   \n",
       "\n",
       "  disc_id       barcode  empl  tpay  \\\n",
       "0     925  200000000492   205    18   \n",
       "1       9  200010010204   205    15   \n",
       "2       9  200010010204   205    15   \n",
       "\n",
       "                                              ndrugs           suppl  vzak  \\\n",
       "0  ЦИПРОЛЕТ 3МГ/МЛ. 5МЛ. №1 ГЛ.КАПЛИ ФЛ./КАП. /Д-...  Катрен г.Химки     1   \n",
       "1            ПЕРЕКИСЬ ВОДОРОДА 3% 100МЛ. №40 Р-Р ФЛ.  Катрен г.Химки     1   \n",
       "2  СОФЬЯ ГЕЛЬ Д/НОГ ВЕНОТОНИЗ. ТРОКСЕРУТИН ФОРТЕ ...  Катрен г.Химки     1   \n",
       "\n",
       "   pos  \n",
       "0 1.00  \n",
       "1 1.00  \n",
       "2 2.00  "
      ]
     },
     "execution_count": 22,
     "metadata": {},
     "output_type": "execute_result"
    }
   ],
   "source": [
    "df['dt'] = pd.to_datetime(df['dt']).dt.strftime('%d.%m.%Y')\n",
    "df[:3]"
   ]
  },
  {
   "cell_type": "code",
   "execution_count": 23,
   "id": "e950e480",
   "metadata": {},
   "outputs": [
    {
     "data": {
      "text/plain": [
       "vzak\n",
       "1    4304\n",
       "2     158\n",
       "Name: count, dtype: int64"
      ]
     },
     "execution_count": 23,
     "metadata": {},
     "output_type": "execute_result"
    }
   ],
   "source": [
    "df['vzak'].value_counts()"
   ]
  },
  {
   "cell_type": "code",
   "execution_count": 24,
   "id": "22e5e224",
   "metadata": {},
   "outputs": [
    {
     "data": {
      "text/plain": [
       "vzak\n",
       "Обычная     4304\n",
       "Интернет     158\n",
       "Name: count, dtype: int64"
      ]
     },
     "execution_count": 24,
     "metadata": {},
     "output_type": "execute_result"
    }
   ],
   "source": [
    "df['vzak'] = df['vzak'].astype(str).replace('1', 'Обычная'). replace('2', 'Интернет')\n",
    "df['vzak'].value_counts()"
   ]
  },
  {
   "cell_type": "code",
   "execution_count": 25,
   "id": "e54463bc",
   "metadata": {},
   "outputs": [
    {
     "data": {
      "text/plain": [
       "dt         0\n",
       "time_      0\n",
       "nchk       0\n",
       "ndoc       0\n",
       "apt        0\n",
       "drug_id    0\n",
       "kol        0\n",
       "zak        0\n",
       "roz        0\n",
       "disc       0\n",
       "disc_id    0\n",
       "barcode    0\n",
       "empl       0\n",
       "tpay       0\n",
       "ndrugs     0\n",
       "suppl      0\n",
       "vzak       0\n",
       "pos        0\n",
       "dtype: int64"
      ]
     },
     "execution_count": 25,
     "metadata": {},
     "output_type": "execute_result"
    }
   ],
   "source": [
    "df.isna().sum()"
   ]
  },
  {
   "cell_type": "code",
   "execution_count": null,
   "id": "01fb4ed4",
   "metadata": {},
   "outputs": [],
   "source": []
  }
 ],
 "metadata": {
  "kernelspec": {
   "display_name": "venv",
   "language": "python",
   "name": "python3"
  },
  "language_info": {
   "codemirror_mode": {
    "name": "ipython",
    "version": 3
   },
   "file_extension": ".py",
   "mimetype": "text/x-python",
   "name": "python",
   "nbconvert_exporter": "python",
   "pygments_lexer": "ipython3",
   "version": "3.12.1"
  }
 },
 "nbformat": 4,
 "nbformat_minor": 5
}
